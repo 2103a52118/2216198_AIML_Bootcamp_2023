{
  "nbformat": 4,
  "nbformat_minor": 0,
  "metadata": {
    "colab": {
      "provenance": [],
      "authorship_tag": "ABX9TyMN0QJxLXscwBBTYQyrlXIZ",
      "include_colab_link": true
    },
    "kernelspec": {
      "name": "python3",
      "display_name": "Python 3"
    },
    "language_info": {
      "name": "python"
    }
  },
  "cells": [
    {
      "cell_type": "markdown",
      "metadata": {
        "id": "view-in-github",
        "colab_type": "text"
      },
      "source": [
        "<a href=\"https://colab.research.google.com/github/2103a52118/2216198_AIML_Bootcamp_2023/blob/main/day2_task.ipynb\" target=\"_parent\"><img src=\"https://colab.research.google.com/assets/colab-badge.svg\" alt=\"Open In Colab\"/></a>"
      ]
    },
    {
      "cell_type": "code",
      "execution_count": 1,
      "metadata": {
        "colab": {
          "base_uri": "https://localhost:8080/"
        },
        "id": "DXmcphp-P56O",
        "outputId": "dfecbcfd-5763-4a54-959c-0a3661ef27ca"
      },
      "outputs": [
        {
          "output_type": "stream",
          "name": "stdout",
          "text": [
            "5\n",
            "1\n",
            "6\n",
            "1.5\n",
            "1\n",
            "9\n",
            "1\n"
          ]
        }
      ],
      "source": [
        "a=3\n",
        "b=2\n",
        "print(a+b)\n",
        "print(a-b)\n",
        "print(a*b)\n",
        "print(a/b)\n",
        "print(a%b)\n",
        "print(a**b)\n",
        "print(a//b)\n",
        "     "
      ]
    },
    {
      "cell_type": "code",
      "source": [
        "#comparsion operateor\n",
        "a>=b\n",
        "a==b\n",
        "a<=b\n",
        "a!=b\n",
        "  "
      ],
      "metadata": {
        "colab": {
          "base_uri": "https://localhost:8080/"
        },
        "id": "Fr6_IEM8QBLh",
        "outputId": "987dbdab-54fe-4fc2-a8d7-f9a543a4377b"
      },
      "execution_count": 5,
      "outputs": [
        {
          "output_type": "execute_result",
          "data": {
            "text/plain": [
              "True"
            ]
          },
          "metadata": {},
          "execution_count": 5
        }
      ]
    },
    {
      "cell_type": "code",
      "source": [
        "#assignment operator\n",
        "a=10\n",
        "b=5\n",
        "c=a+b\n",
        "c-=a\n",
        "     \n"
      ],
      "metadata": {
        "id": "5aHeQIINQIxx"
      },
      "execution_count": 3,
      "outputs": []
    },
    {
      "cell_type": "code",
      "source": [
        "#logical operator\n",
        "x=True\n",
        "y=False\n",
        "print('x and y is:',x and y)\n",
        "print('x or y is:',x or y)\n",
        "print('x not y is:',not y)\n",
        "     "
      ],
      "metadata": {
        "colab": {
          "base_uri": "https://localhost:8080/"
        },
        "id": "xVJuS6vOQX-q",
        "outputId": "7cd0aeda-8433-4312-846c-29f1d9415461"
      },
      "execution_count": 6,
      "outputs": [
        {
          "output_type": "stream",
          "name": "stdout",
          "text": [
            "x and y is: False\n",
            "x or y is: True\n",
            "x not y is: True\n"
          ]
        }
      ]
    },
    {
      "cell_type": "code",
      "source": [
        "#Bitwise operator\n",
        "a=13\n",
        "b=14\n",
        "print(a&b)\n",
        "print(a|b)\n",
        "print(~a)\n",
        "print(a^b)\n",
        "print(a>>2)\n",
        "print(a<<2)\n",
        "     "
      ],
      "metadata": {
        "colab": {
          "base_uri": "https://localhost:8080/"
        },
        "id": "6PvSg43-QbgU",
        "outputId": "a6b78a9d-24b3-442f-9458-d366f96ba641"
      },
      "execution_count": 7,
      "outputs": [
        {
          "output_type": "stream",
          "name": "stdout",
          "text": [
            "12\n",
            "15\n",
            "-14\n",
            "3\n",
            "3\n",
            "52\n"
          ]
        }
      ]
    },
    {
      "cell_type": "code",
      "source": [
        "#membership operator\n",
        "x='hello world'\n",
        "print('w' in x)\n",
        "     "
      ],
      "metadata": {
        "colab": {
          "base_uri": "https://localhost:8080/"
        },
        "id": "cGEV2JJMQeKB",
        "outputId": "74c6db61-d71c-40a0-e72a-3fab05b17a24"
      },
      "execution_count": 8,
      "outputs": [
        {
          "output_type": "stream",
          "name": "stdout",
          "text": [
            "True\n"
          ]
        }
      ]
    },
    {
      "cell_type": "code",
      "source": [
        "#identity operator\n",
        "x1=5\n",
        "y1=5\n",
        "x2='hello'\n",
        "y2=\"hello\"\n",
        "x3=[1,2,3]\n",
        "y3=[1,2,3]\n",
        "print(x1 is not y1)\n",
        "print(x2 is  y2)\n",
        "print(x3 is y3)"
      ],
      "metadata": {
        "colab": {
          "base_uri": "https://localhost:8080/"
        },
        "id": "ySt7YsTFQhAO",
        "outputId": "ae85805f-37ba-403b-9d6d-2ad962ba7e3e"
      },
      "execution_count": 9,
      "outputs": [
        {
          "output_type": "stream",
          "name": "stdout",
          "text": [
            "False\n",
            "True\n",
            "False\n"
          ]
        }
      ]
    },
    {
      "cell_type": "code",
      "source": [
        "a=int(input(\"enter the number\"))\n",
        "print(a)\n",
        "b=input(\"enter the string\")\n",
        "print(b)"
      ],
      "metadata": {
        "colab": {
          "base_uri": "https://localhost:8080/"
        },
        "id": "RZAErlhNQq0j",
        "outputId": "2c0e2f22-a641-426b-adf5-df5d54f7e5ee"
      },
      "execution_count": 10,
      "outputs": [
        {
          "output_type": "stream",
          "name": "stdout",
          "text": [
            "enter the number2\n",
            "2\n",
            "enter the stringhi\n",
            "hi\n"
          ]
        }
      ]
    },
    {
      "cell_type": "code",
      "source": [
        "#string\n",
        "str=\"aashish\"\n",
        "#indexing\n",
        "print(str[0])\n",
        "print(str[-1])\n",
        "print(str[0:5])\n",
        "print(str[0:5:2])\n",
        "#reverse a string\n",
        "print(str[::-1])\n",
        "#string methods\n",
        "my_str=\"I am teaching python\"\n",
        "print(my_str.upper())\n",
        "print(my_str.lower())\n",
        "print(my_str.swapcase())\n",
        "print(my_str.lstrip())\n",
        "#string operations\n",
        "str1=\"hello\"\n",
        "str2=\"world\"\n",
        "print(str1+str2)\n",
        "print(str1+str1)"
      ],
      "metadata": {
        "colab": {
          "base_uri": "https://localhost:8080/"
        },
        "id": "TZhnUy-vQyVE",
        "outputId": "b2f15a6f-d5c9-4f1d-efcb-44d8b0877d7a"
      },
      "execution_count": 11,
      "outputs": [
        {
          "output_type": "stream",
          "name": "stdout",
          "text": [
            "a\n",
            "h\n",
            "aashi\n",
            "asi\n",
            "hsihsaa\n",
            "I AM TEACHING PYTHON\n",
            "i am teaching python\n",
            "i AM TEACHING PYTHON\n",
            "I am teaching python\n",
            "helloworld\n",
            "hellohello\n"
          ]
        }
      ]
    },
    {
      "cell_type": "code",
      "source": [
        "dir(str)"
      ],
      "metadata": {
        "colab": {
          "base_uri": "https://localhost:8080/"
        },
        "id": "s8fPdp97Q3Uh",
        "outputId": "457cdaff-6171-4bd3-a88e-24bb2774928d"
      },
      "execution_count": 12,
      "outputs": [
        {
          "output_type": "execute_result",
          "data": {
            "text/plain": [
              "['__add__',\n",
              " '__class__',\n",
              " '__contains__',\n",
              " '__delattr__',\n",
              " '__dir__',\n",
              " '__doc__',\n",
              " '__eq__',\n",
              " '__format__',\n",
              " '__ge__',\n",
              " '__getattribute__',\n",
              " '__getitem__',\n",
              " '__getnewargs__',\n",
              " '__gt__',\n",
              " '__hash__',\n",
              " '__init__',\n",
              " '__init_subclass__',\n",
              " '__iter__',\n",
              " '__le__',\n",
              " '__len__',\n",
              " '__lt__',\n",
              " '__mod__',\n",
              " '__mul__',\n",
              " '__ne__',\n",
              " '__new__',\n",
              " '__reduce__',\n",
              " '__reduce_ex__',\n",
              " '__repr__',\n",
              " '__rmod__',\n",
              " '__rmul__',\n",
              " '__setattr__',\n",
              " '__sizeof__',\n",
              " '__str__',\n",
              " '__subclasshook__',\n",
              " 'capitalize',\n",
              " 'casefold',\n",
              " 'center',\n",
              " 'count',\n",
              " 'encode',\n",
              " 'endswith',\n",
              " 'expandtabs',\n",
              " 'find',\n",
              " 'format',\n",
              " 'format_map',\n",
              " 'index',\n",
              " 'isalnum',\n",
              " 'isalpha',\n",
              " 'isascii',\n",
              " 'isdecimal',\n",
              " 'isdigit',\n",
              " 'isidentifier',\n",
              " 'islower',\n",
              " 'isnumeric',\n",
              " 'isprintable',\n",
              " 'isspace',\n",
              " 'istitle',\n",
              " 'isupper',\n",
              " 'join',\n",
              " 'ljust',\n",
              " 'lower',\n",
              " 'lstrip',\n",
              " 'maketrans',\n",
              " 'partition',\n",
              " 'replace',\n",
              " 'rfind',\n",
              " 'rindex',\n",
              " 'rjust',\n",
              " 'rpartition',\n",
              " 'rsplit',\n",
              " 'rstrip',\n",
              " 'split',\n",
              " 'splitlines',\n",
              " 'startswith',\n",
              " 'strip',\n",
              " 'swapcase',\n",
              " 'title',\n",
              " 'translate',\n",
              " 'upper',\n",
              " 'zfill']"
            ]
          },
          "metadata": {},
          "execution_count": 12
        }
      ]
    },
    {
      "cell_type": "code",
      "source": [
        "#string formats\n",
        "name=\"aashish\"\n",
        "Language=\"python\"\n",
        "year=2023\n",
        "print(name,\"is teaching\",Language,\"programming in\",year)\n",
        "#format\n",
        "print(\"{} is teaching {} programming in {}\".format(name,Language,year))\n",
        "#placeholder\n",
        "print(\"%s is teaching %s programming in %d\"%(name,Language,year))\n",
        "#rawstring 'f'\n",
        "print(f\"{name} is teaching {Language} programming in {year}\")"
      ],
      "metadata": {
        "colab": {
          "base_uri": "https://localhost:8080/"
        },
        "id": "dPj2LfrRQ6Yz",
        "outputId": "eba33eb0-cb08-49af-d1d9-ade36a322234"
      },
      "execution_count": 13,
      "outputs": [
        {
          "output_type": "stream",
          "name": "stdout",
          "text": [
            "aashish is teaching python programming in 2023\n",
            "aashish is teaching python programming in 2023\n",
            "aashish is teaching python programming in 2023\n",
            "aashish is teaching python programming in 2023\n"
          ]
        }
      ]
    },
    {
      "cell_type": "code",
      "source": [
        "#Lists\n",
        "my_list=[1,2,3,4]\n",
        "my_list1=[1,'hello','3.0']\n",
        "my_list2=['apple','banana','cherry',]\n",
        "\n",
        "#indexing\n",
        "print(my_list[2])\n",
        "print(my_list1[-1])\n",
        "print(my_list[:3])\n",
        "#nested list\n",
        "N_list=[\"dargonfruit\",\"hi\",my_list,my_list[1]]\n",
        "#list methods\n",
        "my_list.append(5)\n",
        "print(my_list)\n",
        "l1=[3,6,9,12,34,4,5,6,9]\n",
        "print(l1.count(4))\n",
        "print(len(l1))\n",
        "print(l1[::-1])\n",
        "l1.reverse()\n",
        "print(l1)\n",
        "l1.sort()\n",
        "print(l1)\n",
        "     "
      ],
      "metadata": {
        "colab": {
          "base_uri": "https://localhost:8080/"
        },
        "id": "J7J-dH0aQ-iI",
        "outputId": "3c7c1666-1b7f-46d5-9a8d-06957b830a34"
      },
      "execution_count": 14,
      "outputs": [
        {
          "output_type": "stream",
          "name": "stdout",
          "text": [
            "3\n",
            "3.0\n",
            "[1, 2, 3]\n",
            "[1, 2, 3, 4, 5]\n",
            "1\n",
            "9\n",
            "[9, 6, 5, 4, 34, 12, 9, 6, 3]\n",
            "[9, 6, 5, 4, 34, 12, 9, 6, 3]\n",
            "[3, 4, 5, 6, 6, 9, 9, 12, 34]\n"
          ]
        }
      ]
    }
  ]
}