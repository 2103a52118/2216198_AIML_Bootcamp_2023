{
  "nbformat": 4,
  "nbformat_minor": 0,
  "metadata": {
    "colab": {
      "provenance": [],
      "authorship_tag": "ABX9TyMDDhtEs5PdV9Zzo9EZP836",
      "include_colab_link": true
    },
    "kernelspec": {
      "name": "python3",
      "display_name": "Python 3"
    },
    "language_info": {
      "name": "python"
    }
  },
  "cells": [
    {
      "cell_type": "markdown",
      "metadata": {
        "id": "view-in-github",
        "colab_type": "text"
      },
      "source": [
        "<a href=\"https://colab.research.google.com/github/2103a52118/2216198_AIML_Bootcamp_2023/blob/main/day1_task.ipynb\" target=\"_parent\"><img src=\"https://colab.research.google.com/assets/colab-badge.svg\" alt=\"Open In Colab\"/></a>"
      ]
    },
    {
      "cell_type": "code",
      "execution_count": 1,
      "metadata": {
        "colab": {
          "base_uri": "https://localhost:8080/"
        },
        "id": "83JjrcPZPXCG",
        "outputId": "51dd2adc-1f3e-42b7-b80e-3f0c8685872f"
      },
      "outputs": [
        {
          "output_type": "stream",
          "name": "stdout",
          "text": [
            "100 100.0 hi aashish\n",
            "20.0\n",
            "5.0\n"
          ]
        }
      ],
      "source": [
        "a=100\n",
        "amount=100.0\n",
        "str1=\"hi\"\n",
        "str2=\"aashish\"\n",
        "\"\"\"This is a docstring\"\"\"\n",
        "comp=20+5j\n",
        "print(a,amount,str1,str2)\n",
        "print(comp.real)\n",
        "print(comp.imag)\n",
        "     "
      ]
    },
    {
      "cell_type": "code",
      "source": [
        "a=100\n",
        "b=1+2j\n",
        "\n",
        "amount=100.0\n",
        "\n",
        "str1=\"hi\"\n",
        "\n",
        "li=[1,2,3,4]\n",
        "tuple=(1,2,3,4)\n",
        "\n",
        "set1={1,2,3,4}\n",
        "\n",
        "my_dict={\"apple\":\"red\"}\n",
        "\n",
        "x=None\n",
        "\n",
        "x=b\"hello\"\n",
        "x=bytearray(5)\n",
        "x=memoryview(bytes(4))"
      ],
      "metadata": {
        "id": "N8V8RX1yPfiQ"
      },
      "execution_count": 2,
      "outputs": []
    },
    {
      "cell_type": "code",
      "source": [
        "b=2\n",
        "c=7.0\n",
        "d=int(c)\n",
        "e=float(b)\n",
        "print(d,e)\n",
        "#implicit fuction\n",
        "f=4\n",
        "g=3.0\n",
        "h=print(f+g)\n",
        "\n",
        "i=\"hello\"\n",
        "s1=str(i)\n",
        "print(s1)\n",
        "j=str(s1)\n",
        "print(j)"
      ],
      "metadata": {
        "colab": {
          "base_uri": "https://localhost:8080/"
        },
        "id": "W1xV5FyVPiH2",
        "outputId": "ab01691b-6f41-4045-a6f4-77182ddcad74"
      },
      "execution_count": 3,
      "outputs": [
        {
          "output_type": "stream",
          "name": "stdout",
          "text": [
            "7 2.0\n",
            "7.0\n",
            "hello\n",
            "hello\n"
          ]
        }
      ]
    }
  ]
}