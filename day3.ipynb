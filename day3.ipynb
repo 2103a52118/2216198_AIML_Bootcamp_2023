{
  "nbformat": 4,
  "nbformat_minor": 0,
  "metadata": {
    "colab": {
      "provenance": [],
      "authorship_tag": "ABX9TyNUNoD/Lg8u32s0zLYIizwN",
      "include_colab_link": true
    },
    "kernelspec": {
      "name": "python3",
      "display_name": "Python 3"
    },
    "language_info": {
      "name": "python"
    }
  },
  "cells": [
    {
      "cell_type": "markdown",
      "metadata": {
        "id": "view-in-github",
        "colab_type": "text"
      },
      "source": [
        "<a href=\"https://colab.research.google.com/github/2103a52118/2216198_AIML_Bootcamp_2023/blob/main/day3.ipynb\" target=\"_parent\"><img src=\"https://colab.research.google.com/assets/colab-badge.svg\" alt=\"Open In Colab\"/></a>"
      ]
    },
    {
      "cell_type": "code",
      "execution_count": 1,
      "metadata": {
        "colab": {
          "base_uri": "https://localhost:8080/"
        },
        "id": "g6qY1jvwRMaM",
        "outputId": "d14af06d-f209-4630-b1c6-4051cc552b5f"
      },
      "outputs": [
        {
          "output_type": "stream",
          "name": "stdout",
          "text": [
            "5\n",
            "1\n",
            "4\n",
            "1\n"
          ]
        }
      ],
      "source": [
        "#Tuples\n",
        "my_tup=(1,2,3,4)\n",
        "my_tup1=(\"hi\",1.1,5)\n",
        "N_tup=(\"hello\",my_tup,my_tup1)\n",
        "print(N_tup[-1][-1])\n",
        "#tuple methods\n",
        "#print(my_tup.count())\n",
        "print(my_tup.index(2))\n",
        "print(max(my_tup))\n",
        "print(min(my_tup))"
      ]
    },
    {
      "cell_type": "code",
      "source": [
        "#sets\n",
        "my_set=(1,2,3,4)\n",
        "my_set1=(\"hi\",1.1,5)\n",
        "l=[1,2,3,4]\n",
        "print(l)\n",
        "\n",
        "#set operation\n",
        "a={1,2,3,4}\n",
        "b={4,5,6,7}\n",
        "print(a|b)\n",
        "print(a.union(b))\n",
        "print(b.union(a))\n",
        "\n",
        "print(a&b)\n",
        "print(a.intersection(b))\n",
        "print(b.intersection(a))\n",
        "\n",
        "print(a-b)\n",
        "print(a.difference(b))\n",
        "print(b.difference(a))"
      ],
      "metadata": {
        "colab": {
          "base_uri": "https://localhost:8080/"
        },
        "id": "lIfCFpHxRbZj",
        "outputId": "4ec6bf53-b473-4e50-a3c3-ba443990b5b0"
      },
      "execution_count": 3,
      "outputs": [
        {
          "output_type": "stream",
          "name": "stdout",
          "text": [
            "[1, 2, 3, 4]\n",
            "{1, 2, 3, 4, 5, 6, 7}\n",
            "{1, 2, 3, 4, 5, 6, 7}\n",
            "{1, 2, 3, 4, 5, 6, 7}\n",
            "{4}\n",
            "{4}\n",
            "{4}\n",
            "{1, 2, 3}\n",
            "{1, 2, 3}\n",
            "{5, 6, 7}\n"
          ]
        }
      ]
    },
    {
      "cell_type": "code",
      "source": [
        "#dictionary\n",
        "my_dict={'name':'grandsteller',102:'english'}\n",
        "print(my_dict)"
      ],
      "metadata": {
        "colab": {
          "base_uri": "https://localhost:8080/"
        },
        "id": "I85LBktFRgui",
        "outputId": "d4a7f8d5-57db-435b-f013-e8ac5381b36e"
      },
      "execution_count": 4,
      "outputs": [
        {
          "output_type": "stream",
          "name": "stdout",
          "text": [
            "{'name': 'grandsteller', 102: 'english'}\n"
          ]
        }
      ]
    }
  ]
}